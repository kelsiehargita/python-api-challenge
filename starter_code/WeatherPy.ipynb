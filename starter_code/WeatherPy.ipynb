{
 "cells": [
  {
   "cell_type": "markdown",
   "metadata": {},
   "source": [
    "# WeatherPy\n",
    "----\n",
    "\n",
    "#### Note\n",
    "* Instructions have been included for each segment. You do not have to follow them exactly, but they are included to help you think through the steps."
   ]
  },
  {
   "cell_type": "code",
   "execution_count": 1,
   "metadata": {
    "scrolled": true
   },
   "outputs": [],
   "source": [
    "# Dependencies and Setup\n",
    "import matplotlib.pyplot as plt\n",
    "import pandas as pd\n",
    "import numpy as np\n",
    "import requests\n",
    "import time\n",
    "from scipy.stats import linregress\n",
    "\n",
    "# Import API key\n",
    "from api_keys import weather_api_key\n",
    "\n",
    "# Incorporated citipy to determine city based on latitude and longitude\n",
    "from citipy import citipy\n",
    "\n",
    "# Output File (CSV)\n",
    "output_data_file = \"cities.csv\"\n",
    "\n",
    "# Range of latitudes and longitudes\n",
    "lat_range = (-90, 90)\n",
    "lng_range = (-180, 180)"
   ]
  },
  {
   "cell_type": "markdown",
   "metadata": {},
   "source": [
    "## Generate Cities List"
   ]
  },
  {
   "cell_type": "code",
   "execution_count": 2,
   "metadata": {},
   "outputs": [
    {
     "data": {
      "text/plain": [
       "622"
      ]
     },
     "execution_count": 2,
     "metadata": {},
     "output_type": "execute_result"
    }
   ],
   "source": [
    "# List for holding lat_lngs and cities\n",
    "lat_lngs = []\n",
    "cities = []\n",
    "\n",
    "# Create a set of random lat and lng combinations\n",
    "lats = np.random.uniform(lat_range[0], lat_range[1], size=1500)\n",
    "lngs = np.random.uniform(lng_range[0], lng_range[1], size=1500)\n",
    "lat_lngs = zip(lats, lngs)\n",
    "\n",
    "# Identify nearest city for each lat, lng combination\n",
    "for lat_lng in lat_lngs:\n",
    "    city = citipy.nearest_city(lat_lng[0], lat_lng[1]).city_name\n",
    "    \n",
    "    # If the city is unique, then add it to a our cities list\n",
    "    if city not in cities:\n",
    "        cities.append(city)\n",
    "\n",
    "# Print the city count to confirm sufficient count\n",
    "len(cities)"
   ]
  },
  {
   "cell_type": "markdown",
   "metadata": {},
   "source": [
    "### Perform API Calls\n",
    "* Perform a weather check on each city using a series of successive API calls.\n",
    "* Include a print log of each city as it'sbeing processed (with the city number and city name).\n"
   ]
  },
  {
   "cell_type": "code",
   "execution_count": 3,
   "metadata": {},
   "outputs": [
    {
     "name": "stdout",
     "output_type": "stream",
     "text": [
      " City: fairbanks, ID: 5861897\n",
      " City: panaba, ID: 3521972\n",
      " City: mount isa, ID: 2065594\n",
      " City: mataura, ID: 6201424\n",
      " City: ngunguru, ID: 2186111\n",
      " City: aykhal, ID: 2027296\n",
      " City: naze, ID: 1855540\n",
      "City not found. Skipping...\n",
      " City: uaua, ID: 3385883\n",
      " City: skibbereen, ID: 2961459\n",
      " City: antalaha, ID: 1071296\n",
      "City not found. Skipping...\n",
      " City: ahuimanu, ID: 5856516\n",
      " City: ambovombe, ID: 1079048\n",
      " City: east london, ID: 1006984\n",
      " City: gizo, ID: 2108857\n",
      " City: kawalu, ID: 1640902\n",
      " City: darnah, ID: 87205\n",
      " City: ushuaia, ID: 3833367\n",
      " City: bada, ID: 2027275\n",
      " City: saint-philippe, ID: 935215\n",
      " City: punta arenas, ID: 3874787\n",
      " City: dikson, ID: 1507390\n",
      " City: plettenberg bay, ID: 964712\n",
      " City: sinor, ID: 1256117\n",
      " City: ihosy, ID: 1064275\n",
      "City not found. Skipping...\n",
      " City: bredasdorp, ID: 1015776\n",
      " City: kapaa, ID: 5848280\n",
      " City: barmer, ID: 1276901\n",
      "City not found. Skipping...\n",
      "City not found. Skipping...\n",
      " City: khatanga, ID: 2022572\n",
      " City: qaanaaq, ID: 3831208\n",
      " City: mogadishu, ID: 53654\n",
      " City: chara, ID: 2025630\n",
      " City: lavrentiya, ID: 4031637\n",
      " City: hobart, ID: 2163355\n",
      " City: georgetown, ID: 1735106\n",
      " City: ribeira grande, ID: 3372707\n",
      " City: cidreira, ID: 3466165\n",
      " City: yellowknife, ID: 6185377\n",
      " City: cherskiy, ID: 2126199\n",
      " City: udachnyy, ID: 2014624\n",
      " City: husavik, ID: 2629833\n",
      " City: bambanglipuro, ID: 1650434\n",
      " City: pauini, ID: 3662927\n",
      " City: mangai, ID: 2313084\n",
      " City: rikitea, ID: 4030556\n",
      " City: hermanus, ID: 3366880\n",
      " City: komsomolskiy, ID: 1513491\n",
      " City: codrington, ID: 2171099\n",
      " City: miandrivazo, ID: 1059051\n",
      " City: bethel, ID: 5282297\n",
      "City not found. Skipping...\n",
      " City: kikwit, ID: 2314705\n",
      " City: butaritari, ID: 2110227\n",
      " City: laguna, ID: 5364271\n",
      " City: busselton, ID: 2075265\n",
      " City: oistins, ID: 3373652\n",
      " City: irati, ID: 3461017\n",
      " City: cockburn town, ID: 3576994\n",
      " City: chuy, ID: 3443061\n",
      " City: upernavik, ID: 3418910\n",
      " City: ban nahin, ID: 1661950\n",
      " City: cape town, ID: 3369157\n",
      " City: adeje, ID: 2522437\n",
      " City: coihaique, ID: 3894426\n",
      " City: lukovetskiy, ID: 533418\n",
      " City: tuktoyaktuk, ID: 6170031\n",
      "City not found. Skipping...\n",
      " City: hilo, ID: 5855927\n",
      " City: beringovskiy, ID: 2126710\n",
      " City: geraldton, ID: 2070998\n",
      " City: mount gambier, ID: 2156643\n",
      " City: honiara, ID: 2108502\n",
      " City: bengkulu, ID: 1649150\n",
      " City: zihuatanejo, ID: 3979673\n",
      " City: sakaiminato, ID: 1853174\n",
      " City: kumba, ID: 2229752\n",
      " City: saldanha, ID: 3361934\n",
      " City: vaini, ID: 4032243\n",
      " City: barrow, ID: 5880054\n",
      " City: faanui, ID: 4034551\n",
      " City: albany, ID: 5106841\n",
      " City: imbituba, ID: 3461370\n",
      "City not found. Skipping...\n",
      " City: hovd, ID: 1516048\n",
      " City: hasaki, ID: 2112802\n",
      " City: talnakh, ID: 1490256\n",
      " City: jamestown, ID: 5122534\n",
      " City: marienburg, ID: 3092472\n",
      " City: atuona, ID: 4020109\n",
      " City: saint-pierre, ID: 935214\n",
      " City: ponta do sol, ID: 2264557\n",
      " City: sorland, ID: 3137469\n",
      " City: iquique, ID: 3887127\n",
      " City: port hedland, ID: 2063042\n",
      " City: olafsvik, ID: 3414079\n",
      " City: kiama, ID: 2161515\n",
      " City: touros, ID: 3386213\n",
      " City: kangaatsiaq, ID: 3422683\n",
      " City: mehamn, ID: 778707\n",
      " City: kokopo, ID: 2093685\n",
      "City not found. Skipping...\n",
      " City: clyde river, ID: 5924351\n",
      " City: morant bay, ID: 3489440\n",
      " City: avarua, ID: 4035715\n",
      " City: shenjiamen, ID: 1795632\n",
      " City: kavieng, ID: 2094342\n",
      "City not found. Skipping...\n",
      " City: lecce, ID: 3174952\n",
      "City not found. Skipping...\n",
      " City: arlit, ID: 2447513\n",
      "City not found. Skipping...\n",
      " City: nikolskoye, ID: 546105\n",
      " City: te anau, ID: 2181625\n",
      "City not found. Skipping...\n",
      " City: kodiak, ID: 5866583\n",
      " City: ancud, ID: 3899695\n",
      " City: a coruna, ID: 3119841\n",
      "City not found. Skipping...\n",
      " City: port elizabeth, ID: 964420\n",
      " City: bathsheba, ID: 3374083\n",
      " City: nizhniy kuranakh, ID: 2019135\n",
      "City not found. Skipping...\n",
      " City: san cristobal, ID: 3628473\n",
      " City: la asuncion, ID: 3480908\n",
      " City: belyy yar, ID: 1510377\n",
      " City: iqaluit, ID: 5983720\n",
      " City: dingle, ID: 1714733\n",
      " City: new norfolk, ID: 2155415\n",
      " City: bowen, ID: 2174444\n",
      " City: lompoc, ID: 5367788\n",
      " City: kropotkin, ID: 540761\n",
      "City not found. Skipping...\n",
      " City: bronnoysund, ID: 3159954\n",
      " City: lukiv, ID: 702612\n",
      " City: yulara, ID: 6355222\n",
      "City not found. Skipping...\n",
      " City: alice springs, ID: 2077895\n",
      " City: tasiilaq, ID: 3424607\n",
      " City: aklavik, ID: 5882953\n",
      " City: hambantota, ID: 1244926\n",
      " City: nouakchott, ID: 2377450\n",
      " City: thompson, ID: 6165406\n",
      " City: takoradi, ID: 2294915\n",
      " City: maragogi, ID: 3395458\n",
      " City: dickinson, ID: 4686163\n",
      " City: tierra colorada, ID: 3515643\n",
      " City: togur, ID: 1489499\n",
      " City: myitkyina, ID: 1307741\n",
      " City: marfino, ID: 529368\n",
      " City: jinchang, ID: 1805733\n",
      " City: keti bandar, ID: 1174451\n",
      " City: bluff, ID: 2206939\n",
      " City: eureka, ID: 5563397\n",
      " City: katsuura, ID: 2112309\n",
      " City: pevek, ID: 2122090\n",
      "City not found. Skipping...\n",
      " City: provideniya, ID: 4031574\n",
      " City: nantucket, ID: 4944903\n",
      " City: san-pedro, ID: 2282006\n",
      " City: buraydah, ID: 107304\n",
      " City: puerto colombia, ID: 3671497\n",
      " City: ostersund, ID: 2685750\n",
      " City: nautla, ID: 3522788\n",
      " City: souillac, ID: 933995\n",
      " City: guerrero negro, ID: 4021858\n",
      " City: avera, ID: 4231997\n",
      "City not found. Skipping...\n",
      " City: baturaja, ID: 1649593\n",
      " City: lazaro cardenas, ID: 4026082\n",
      " City: kaitangata, ID: 2208248\n",
      " City: sur, ID: 286245\n",
      " City: kendari, ID: 1640344\n",
      " City: araouane, ID: 2460954\n",
      " City: merauke, ID: 2082539\n",
      " City: luangwa, ID: 909887\n",
      " City: biak, ID: 1637001\n",
      " City: nanortalik, ID: 3421765\n",
      " City: bac lieu, ID: 1591474\n",
      " City: nome, ID: 5870133\n",
      " City: longyearbyen, ID: 2729907\n",
      " City: usinsk, ID: 863061\n",
      " City: torbay, ID: 6167817\n",
      " City: rafsanjan, ID: 118994\n",
      " City: beckley, ID: 4798308\n",
      " City: gardner, ID: 4937557\n",
      " City: asfi, ID: 2537881\n",
      " City: norman wells, ID: 6089245\n",
      " City: antibes, ID: 3037456\n",
      " City: obsharovka, ID: 516342\n",
      " City: mnogovershinnyy, ID: 2019935\n",
      " City: castro, ID: 3466704\n",
      " City: matadi, ID: 2313002\n",
      " City: soyo, ID: 2236967\n",
      " City: severo-kurilsk, ID: 2121385\n",
      " City: zilupe, ID: 453850\n",
      "City not found. Skipping...\n",
      "City not found. Skipping...\n",
      " City: vardo, ID: 777019\n",
      " City: shimanovsk, ID: 2016701\n",
      " City: tuatapere, ID: 2180815\n",
      " City: saint george, ID: 5546220\n",
      " City: araceli, ID: 1730272\n",
      " City: parfino, ID: 512570\n",
      " City: tautira, ID: 4033557\n",
      " City: ilhabela, ID: 3461425\n",
      " City: puerto ayora, ID: 3652764\n",
      " City: thinadhoo, ID: 1337610\n",
      " City: port alfred, ID: 964432\n",
      "City not found. Skipping...\n",
      " City: casa nova, ID: 3402621\n",
      " City: oktyabrskoye, ID: 515805\n",
      " City: floro, ID: 3156980\n",
      " City: vestmannaeyjar, ID: 3412093\n",
      " City: kiunga, ID: 2093846\n",
      " City: kulti, ID: 1265711\n",
      " City: goderich, ID: 5962442\n",
      " City: russell, ID: 4047434\n",
      " City: los algarrobos, ID: 3705562\n",
      " City: carnarvon, ID: 2074865\n",
      " City: byron bay, ID: 2172880\n",
      " City: henties bay, ID: 3356832\n",
      " City: bambous virieux, ID: 1106677\n",
      " City: vaitape, ID: 4033077\n",
      " City: chapais, ID: 5919850\n",
      " City: gualaquiza, ID: 3657661\n",
      "City not found. Skipping...\n",
      " City: koslan, ID: 544084\n",
      " City: voyinka, ID: 689307\n",
      " City: kieta, ID: 2094027\n",
      " City: aranda de duero, ID: 3129877\n",
      " City: chokurdakh, ID: 2126123\n",
      " City: seoul, ID: 1835848\n",
      " City: samana, ID: 3492997\n",
      " City: mezen, ID: 527321\n",
      " City: lata, ID: 2738381\n",
      " City: ahipara, ID: 2194098\n",
      " City: abalak, ID: 1512223\n",
      " City: vila velha, ID: 3445026\n",
      " City: esperance, ID: 2071860\n",
      " City: mahebourg, ID: 934322\n",
      " City: ostrovnoy, ID: 556268\n",
      " City: przeworsk, ID: 761131\n",
      " City: warrnambool, ID: 2144528\n",
      " City: hamilton, ID: 4513583\n",
      " City: pandan, ID: 1695546\n",
      " City: yangjiang, ID: 1806408\n",
      " City: kasongo-lunda, ID: 2315026\n",
      " City: sao filipe, ID: 3374210\n",
      " City: ransang, ID: 1691872\n",
      " City: el rosario, ID: 4007812\n",
      " City: havelock, ID: 4470244\n",
      " City: tongzi, ID: 1799686\n",
      " City: burnie, ID: 2173125\n",
      " City: krasavino, ID: 542908\n",
      " City: cabo san lucas, ID: 3985710\n",
      " City: labuhan, ID: 8079926\n",
      " City: zolotonosha, ID: 686875\n",
      " City: kinsale, ID: 2963155\n",
      " City: makakilo city, ID: 5850554\n",
      " City: solnechnyy, ID: 2016307\n",
      " City: nanzhang, ID: 1799574\n",
      " City: tokur, ID: 2015217\n",
      " City: sulangan, ID: 1685422\n",
      " City: mayo, ID: 4362001\n",
      " City: tailai, ID: 2034599\n",
      " City: padang, ID: 1633419\n",
      " City: san angelo, ID: 5530022\n",
      " City: muzhi, ID: 1498161\n",
      " City: adrar, ID: 2381972\n",
      "City not found. Skipping...\n",
      " City: samarai, ID: 2132606\n",
      " City: mayor pablo lagerenza, ID: 3867427\n",
      "City not found. Skipping...\n",
      " City: la solana, ID: 2515284\n",
      "City not found. Skipping...\n",
      " City: marion, ID: 4260977\n",
      " City: south charleston, ID: 4822764\n",
      "City not found. Skipping...\n"
     ]
    },
    {
     "name": "stdout",
     "output_type": "stream",
     "text": [
      " City: dawlatabad, ID: 1142226\n",
      " City: victoria, ID: 1819729\n",
      " City: jatai, ID: 3460064\n",
      " City: kruisfontein, ID: 986717\n",
      " City: bull savanna, ID: 3491161\n",
      " City: egvekinot, ID: 4031742\n",
      " City: pochutla, ID: 3517970\n",
      " City: bam, ID: 141736\n",
      " City: dali, ID: 1814093\n",
      "City not found. Skipping...\n",
      " City: amarillo, ID: 5516233\n",
      "City not found. Skipping...\n",
      " City: itoman, ID: 1861280\n",
      " City: santa isabel, ID: 3450188\n",
      " City: klaksvik, ID: 2618795\n",
      " City: tiksi, ID: 2015306\n",
      " City: tongren, ID: 1792592\n",
      " City: birao, ID: 240210\n",
      " City: porosozero, ID: 506232\n",
      " City: luderitz, ID: 3355672\n",
      " City: hobyo, ID: 57000\n",
      " City: kavaratti, ID: 1267390\n",
      " City: dunedin, ID: 2191562\n",
      "City not found. Skipping...\n",
      " City: yorkton, ID: 6185607\n",
      " City: kenai, ID: 5866063\n",
      " City: decatur, ID: 4236895\n",
      " City: mbekenyera, ID: 878006\n",
      " City: aketi, ID: 220448\n",
      " City: port-gentil, ID: 2396518\n",
      " City: los llanos de aridane, ID: 2514651\n",
      " City: saint anthony, ID: 5044290\n",
      " City: mazatan, ID: 3523418\n",
      " City: nelson bay, ID: 2155562\n",
      " City: yar-sale, ID: 1486321\n",
      " City: darhan, ID: 2031964\n",
      " City: namatanai, ID: 2090021\n",
      " City: labuan, ID: 1733782\n",
      " City: villa carlos paz, ID: 3832791\n",
      " City: salalah, ID: 286621\n",
      " City: bosaso, ID: 64013\n",
      " City: gimli, ID: 5961417\n",
      " City: tallahassee, ID: 4174715\n",
      " City: ankpa, ID: 2349788\n",
      " City: nuristan, ID: 1444363\n",
      " City: umtata, ID: 946058\n",
      " City: chapada dos guimaraes, ID: 3466307\n",
      " City: keflavik, ID: 3415496\n",
      " City: porto belo, ID: 3452900\n",
      " City: kenora, ID: 5991056\n",
      " City: wad madani, ID: 364103\n",
      "City not found. Skipping...\n",
      " City: yershov, ID: 467120\n",
      " City: coquimbo, ID: 3893629\n",
      " City: sitka, ID: 5557293\n",
      " City: san patricio, ID: 3985168\n",
      " City: baglan, ID: 1147540\n",
      " City: comodoro rivadavia, ID: 3860443\n",
      " City: manta, ID: 3654410\n",
      "City not found. Skipping...\n",
      "City not found. Skipping...\n",
      " City: luwuk, ID: 1637001\n",
      " City: the valley, ID: 3573374\n",
      " City: brooks, ID: 5909514\n",
      " City: rockingham, ID: 5091860\n",
      "City not found. Skipping...\n",
      " City: rawlins, ID: 5836068\n",
      " City: agirish, ID: 1512101\n",
      " City: north bend, ID: 5742974\n",
      " City: flin flon, ID: 5954718\n",
      " City: milkovo, ID: 2123278\n",
      " City: port-cartier, ID: 6111696\n",
      " City: tondano, ID: 1623424\n",
      " City: hualmay, ID: 3939761\n",
      " City: ostrovskoye, ID: 514052\n",
      " City: piterka, ID: 509269\n",
      " City: grindavik, ID: 3416888\n",
      " City: grand gaube, ID: 934479\n",
      " City: bayir, ID: 304183\n",
      " City: mar del plata, ID: 3430863\n",
      " City: yumen, ID: 1528998\n",
      " City: muros, ID: 3115824\n",
      " City: majenang, ID: 1636808\n",
      " City: killybegs, ID: 2963295\n",
      " City: beloha, ID: 1067565\n",
      " City: moscow, ID: 524901\n",
      " City: venustiano carranza, ID: 3827407\n",
      " City: sturgeon falls, ID: 5952554\n",
      " City: kaeo, ID: 2189343\n",
      " City: west bay, ID: 3580477\n",
      " City: shizunai, ID: 2128025\n",
      " City: kalmunai, ID: 1242110\n",
      " City: maceio, ID: 3395981\n",
      " City: west wendover, ID: 5710035\n",
      "City not found. Skipping...\n",
      " City: penzance, ID: 2640377\n",
      "City not found. Skipping...\n",
      " City: weinsberg, ID: 2812158\n",
      " City: tiarei, ID: 4033356\n",
      " City: mbigou, ID: 2398929\n",
      " City: kihei, ID: 5849297\n",
      "City not found. Skipping...\n",
      " City: batagay, ID: 2027044\n",
      " City: bud, ID: 4255151\n",
      " City: nacozari, ID: 4018499\n",
      " City: sokolka, ID: 758651\n",
      " City: saskylakh, ID: 2017155\n",
      " City: nabire, ID: 1634614\n",
      " City: sarahan, ID: 1257277\n",
      " City: baglung, ID: 1283711\n",
      " City: huanren, ID: 2036713\n",
      " City: anloga, ID: 2304548\n",
      " City: kampot, ID: 1831112\n",
      " City: roma, ID: 5134295\n",
      " City: sal rei, ID: 3374235\n",
      " City: port keats, ID: 2063039\n",
      " City: fortuna, ID: 5563839\n",
      "City not found. Skipping...\n",
      " City: price, ID: 5545269\n",
      " City: kholmogory, ID: 549748\n",
      " City: lorengau, ID: 2092164\n",
      " City: kirakira, ID: 2178753\n",
      " City: sinjar, ID: 448149\n",
      " City: kozluk, ID: 306041\n",
      " City: casablanca, ID: 2553604\n",
      " City: vila franca do campo, ID: 3372472\n",
      " City: tucuman, ID: 3836873\n",
      " City: angoche, ID: 1052944\n",
      " City: santo tomas, ID: 1687534\n",
      "City not found. Skipping...\n",
      " City: hithadhoo, ID: 1282256\n",
      " City: nizhnevartovsk, ID: 1497543\n",
      " City: chelno-vershiny, ID: 569497\n",
      " City: balkanabat, ID: 161616\n",
      " City: taylorville, ID: 4251141\n",
      " City: quesnel, ID: 6115187\n",
      " City: pangnirtung, ID: 6096551\n",
      " City: coruripe, ID: 3465329\n",
      " City: ipixuna, ID: 3408424\n",
      " City: kudahuvadhoo, ID: 1337607\n",
      " City: puerto ayacucho, ID: 3629710\n",
      " City: port hardy, ID: 6111862\n",
      " City: lagoa da prata, ID: 3459251\n",
      " City: ilulissat, ID: 3423146\n",
      " City: balancan, ID: 3532443\n",
      " City: raudeberg, ID: 3146487\n",
      " City: cordele, ID: 4189423\n",
      " City: nhulunbuy, ID: 2064735\n",
      " City: suoyarvi, ID: 486186\n",
      " City: siocon, ID: 1686123\n",
      " City: ayorou, ID: 2447416\n",
      " City: diapaga, ID: 2361373\n",
      " City: eyl, ID: 60019\n",
      "City not found. Skipping...\n",
      " City: westport, ID: 4845585\n",
      " City: pilar, ID: 3392126\n",
      " City: margate, ID: 2643044\n",
      " City: kloulklubed, ID: 7671223\n",
      " City: kahului, ID: 5847411\n",
      " City: melita, ID: 6071900\n",
      " City: sambava, ID: 1056899\n",
      "City not found. Skipping...\n",
      " City: sorong, ID: 1626542\n",
      "City not found. Skipping...\n",
      " City: doha, ID: 290030\n",
      " City: mahibadhoo, ID: 1337605\n",
      " City: bilibino, ID: 2126682\n",
      " City: berlevag, ID: 780687\n",
      "City not found. Skipping...\n",
      " City: northam, ID: 2641434\n",
      "City not found. Skipping...\n",
      " City: boyolangu, ID: 1648082\n",
      " City: paragominas, ID: 3393106\n",
      " City: tarko-sale, ID: 1490085\n",
      " City: kemin, ID: 1528606\n",
      " City: vostok, ID: 2013279\n",
      " City: logrono, ID: 3118150\n",
      " City: rawson, ID: 3839307\n",
      "City not found. Skipping...\n",
      " City: paracuru, ID: 3393115\n",
      " City: kipushi, ID: 922806\n",
      " City: sembe, ID: 2255304\n",
      " City: port macquarie, ID: 2152659\n",
      " City: trinidad, ID: 3902377\n",
      " City: chiniot, ID: 1181096\n",
      " City: dalbandin, ID: 1180729\n",
      " City: waipawa, ID: 2206874\n",
      " City: kamenka, ID: 553766\n",
      " City: chuchkovo, ID: 567806\n",
      " City: camacha, ID: 2270385\n",
      " City: tabas, ID: 113659\n",
      " City: sabya, ID: 102651\n",
      " City: prince rupert, ID: 6113406\n",
      " City: novo aripuana, ID: 3663142\n",
      " City: jorpeland, ID: 3150742\n",
      " City: arraial do cabo, ID: 3471451\n",
      " City: hofn, ID: 2630299\n",
      "City not found. Skipping...\n",
      " City: korba, ID: 1266122\n",
      " City: korla, ID: 1529376\n",
      " City: oranjemund, ID: 3354071\n",
      " City: doctor juan leon mallorquin, ID: 3438754\n",
      " City: kemijarvi, ID: 653272\n",
      " City: claresholm, ID: 5923125\n",
      " City: odesskoye, ID: 1496380\n",
      " City: moerai, ID: 4034188\n",
      " City: tigil, ID: 2120612\n",
      " City: sao joao da barra, ID: 3448903\n",
      " City: barra do garcas, ID: 3470709\n",
      " City: suhbaatar, ID: 2029156\n",
      " City: sri aman, ID: 1735799\n",
      " City: carutapera, ID: 3402648\n",
      " City: okhotsk, ID: 2122605\n",
      " City: narsaq, ID: 3421719\n",
      " City: muravlenko, ID: 1540711\n",
      "City not found. Skipping...\n",
      " City: college, ID: 5859699\n",
      " City: katobu, ID: 1640972\n",
      " City: lagoa, ID: 3372964\n",
      " City: leningradskiy, ID: 2123814\n",
      " City: inhambane, ID: 1045114\n",
      " City: faya, ID: 110690\n",
      " City: marovoay, ID: 1059507\n",
      "City not found. Skipping...\n",
      "City not found. Skipping...\n",
      " City: goba, ID: 336350\n",
      " City: san nicolas, ID: 1688859\n",
      " City: tabuk, ID: 1684803\n",
      " City: ossora, ID: 2122389\n",
      " City: sawakin, ID: 367544\n",
      " City: vokhma, ID: 472887\n",
      "City not found. Skipping...\n",
      " City: neiafu, ID: 4032420\n",
      " City: catia la mar, ID: 3646190\n",
      " City: abha, ID: 110690\n",
      " City: airai, ID: 1651810\n",
      " City: peleduy, ID: 2018069\n",
      " City: surt, ID: 2210554\n",
      "City not found. Skipping...\n",
      " City: nalut, ID: 2214432\n",
      "City not found. Skipping...\n",
      " City: vanimo, ID: 2084442\n",
      " City: caorle, ID: 3180749\n",
      " City: ler, ID: 371466\n",
      " City: baculin, ID: 1729469\n",
      " City: deputatskiy, ID: 2028164\n",
      " City: carballo, ID: 3126369\n",
      "City not found. Skipping...\n",
      " City: khanapur, ID: 1267065\n",
      " City: lakatoro, ID: 2136697\n",
      " City: luba, ID: 2309528\n",
      " City: heihe, ID: 2036973\n",
      " City: san juan evangelista, ID: 3518679\n",
      " City: twentynine palms, ID: 5404198\n",
      " City: kidal, ID: 2455290\n",
      " City: kushiro, ID: 2129376\n",
      " City: gavle, ID: 2712414\n",
      " City: zaqatala, ID: 584596\n",
      "City not found. Skipping...\n",
      " City: beisfjord, ID: 3144987\n",
      " City: kill, ID: 2963388\n",
      " City: alakurtti, ID: 583472\n",
      " City: kontagora, ID: 2334008\n",
      " City: caravelas, ID: 3466980\n",
      " City: nelson, ID: 2186280\n",
      " City: uige, ID: 2236568\n",
      " City: nador, ID: 2541479\n",
      " City: igurubi, ID: 159382\n",
      " City: kwinana, ID: 2068079\n",
      " City: namibe, ID: 3347019\n",
      " City: brae, ID: 2654970\n",
      " City: taoudenni, ID: 2450173\n",
      " City: vao, ID: 2137773\n",
      " City: vanderhoof, ID: 6173361\n",
      "City not found. Skipping...\n",
      " City: nizhniy baskunchak, ID: 520798\n",
      "City not found. Skipping...\n",
      " City: saquena, ID: 3692020\n",
      " City: doume, ID: 2232497\n",
      " City: port moresby, ID: 2088122\n",
      " City: shizilu, ID: 1794825\n",
      " City: madimba, ID: 878141\n",
      " City: batagay-alyta, ID: 2027042\n",
      " City: villazon, ID: 3901501\n"
     ]
    },
    {
     "name": "stdout",
     "output_type": "stream",
     "text": [
      " City: camana, ID: 3945985\n",
      " City: mengcheng, ID: 1800764\n",
      " City: ginir, ID: 336454\n",
      " City: crotone, ID: 2524881\n",
      " City: gijon, ID: 3121424\n",
      " City: soe, ID: 1626703\n",
      " City: benghazi, ID: 88319\n",
      " City: farah, ID: 1142263\n",
      " City: jieshi, ID: 1805857\n",
      " City: madera, ID: 5369578\n",
      " City: wum, ID: 2221053\n",
      " City: anamur, ID: 323828\n",
      " City: bakel, ID: 2252606\n",
      " City: bhikangaon, ID: 1275978\n",
      " City: mattawa, ID: 5802636\n",
      " City: bandarbeyla, ID: 64814\n",
      " City: stornoway, ID: 2636790\n",
      " City: domoni, ID: 921906\n",
      " City: jamkhed, ID: 1278455\n",
      " City: bandar-e lengeh, ID: 141665\n",
      "City not found. Skipping...\n",
      " City: hirado, ID: 1862555\n",
      " City: gat, ID: 293842\n",
      "City not found. Skipping...\n",
      " City: nata, ID: 3703938\n",
      " City: ardesen, ID: 751949\n",
      " City: seydi, ID: 1218420\n",
      " City: tobane, ID: 933002\n",
      " City: gladstone, ID: 2165478\n",
      " City: axim, ID: 2303611\n",
      " City: stromness, ID: 2636638\n",
      " City: tsivilsk, ID: 480851\n",
      " City: karratha, ID: 6620339\n",
      " City: santo domingo, ID: 3492908\n",
      " City: zhuhai, ID: 1790437\n",
      "City not found. Skipping...\n",
      " City: myanaung, ID: 1308204\n",
      " City: svetlyy, ID: 485660\n",
      " City: manoel urbano, ID: 3663495\n",
      " City: poum, ID: 2138555\n",
      " City: krasnovishersk, ID: 542184\n",
      " City: greeneville, ID: 4626334\n",
      " City: lamu, ID: 189741\n",
      " City: kyabe, ID: 2429344\n",
      " City: lixourion, ID: 258175\n",
      " City: am timan, ID: 245338\n",
      " City: cairns, ID: 2172797\n",
      " City: pringsewu, ID: 1630639\n",
      " City: ingham, ID: 4997130\n",
      " City: dawson creek, ID: 5935804\n",
      " City: winnemucca, ID: 5710360\n",
      " City: nizwa, ID: 286987\n",
      " City: zhicheng, ID: 1784554\n",
      " City: amasia, ID: 752015\n",
      " City: leirvik, ID: 3147822\n",
      " City: quatre cocos, ID: 1106643\n"
     ]
    }
   ],
   "source": [
    "base_url = \"http://api.openweathermap.org/data/2.5/weather?\"\n",
    "weather_df = pd.DataFrame({\"City\": cities})\n",
    "weather_df['ID']=''\n",
    "weather_df['Lat']=''\n",
    "weather_df['Lng']=''\n",
    "weather_df['Max Temp']=''\n",
    "weather_df['Humidity']=''\n",
    "weather_df['Cloudiness']=''\n",
    "weather_df['Wind Speed']=''\n",
    "weather_df['Country']=''\n",
    "weather_df['Date']=''\n",
    "\n",
    "\n",
    "for index, row in weather_df.iterrows():      \n",
    "    city = row[\"City\"]\n",
    "    query_url = base_url + \"appid=\" + weather_api_key + \"&q=\" + city + \"&units=imperial\"\n",
    "    weather_json = requests.get(query_url).json()\n",
    "    \n",
    "    try: \n",
    "        print(f\" City: {city}, ID: {weather_json['id']}\")\n",
    "        weather_df.loc[index, 'ID'] = weather_json['id']\n",
    "        weather_df.loc[index, 'Lat'] = weather_json['coord']['lat']\n",
    "        weather_df.loc[index, 'Lng'] = weather_json['coord']['lon']\n",
    "        weather_df.loc[index, 'Max Temp'] = weather_json['main']['temp_max']\n",
    "        weather_df.loc[index, 'Humidity'] = weather_json['main']['humidity']\n",
    "        weather_df.loc[index, 'Cloudiness'] = weather_json['clouds']['all']\n",
    "        weather_df.loc[index, 'Wind Speed'] = weather_json['wind']['speed']\n",
    "        weather_df.loc[index, 'Country'] = weather_json['sys']['country']\n",
    "        weather_df.loc[index, 'Date'] = weather_json['dt']\n",
    "    except (KeyError, IndexError):\n",
    "        print(\"City not found. Skipping...\")\n",
    "        "
   ]
  },
  {
   "cell_type": "markdown",
   "metadata": {},
   "source": [
    "### Convert Raw Data to DataFrame\n",
    "* Export the city data into a .csv.\n",
    "* Display the DataFrame"
   ]
  },
  {
   "cell_type": "code",
   "execution_count": 4,
   "metadata": {},
   "outputs": [
    {
     "data": {
      "text/plain": [
       "City          622\n",
       "ID            622\n",
       "Lat           622\n",
       "Lng           622\n",
       "Max Temp      622\n",
       "Humidity      622\n",
       "Cloudiness    622\n",
       "Wind Speed    622\n",
       "Country       622\n",
       "Date          622\n",
       "dtype: int64"
      ]
     },
     "execution_count": 4,
     "metadata": {},
     "output_type": "execute_result"
    }
   ],
   "source": [
    "weather_df.to_csv(output_data_file)\n",
    "weather_df.count()\n"
   ]
  },
  {
   "cell_type": "code",
   "execution_count": 5,
   "metadata": {},
   "outputs": [
    {
     "data": {
      "text/html": [
       "<div>\n",
       "<style scoped>\n",
       "    .dataframe tbody tr th:only-of-type {\n",
       "        vertical-align: middle;\n",
       "    }\n",
       "\n",
       "    .dataframe tbody tr th {\n",
       "        vertical-align: top;\n",
       "    }\n",
       "\n",
       "    .dataframe thead th {\n",
       "        text-align: right;\n",
       "    }\n",
       "</style>\n",
       "<table border=\"1\" class=\"dataframe\">\n",
       "  <thead>\n",
       "    <tr style=\"text-align: right;\">\n",
       "      <th></th>\n",
       "      <th>City</th>\n",
       "      <th>ID</th>\n",
       "      <th>Lat</th>\n",
       "      <th>Lng</th>\n",
       "      <th>Max Temp</th>\n",
       "      <th>Humidity</th>\n",
       "      <th>Cloudiness</th>\n",
       "      <th>Wind Speed</th>\n",
       "      <th>Country</th>\n",
       "      <th>Date</th>\n",
       "    </tr>\n",
       "  </thead>\n",
       "  <tbody>\n",
       "    <tr>\n",
       "      <th>0</th>\n",
       "      <td>fairbanks</td>\n",
       "      <td>5861897</td>\n",
       "      <td>64.84</td>\n",
       "      <td>-147.72</td>\n",
       "      <td>55.4</td>\n",
       "      <td>82</td>\n",
       "      <td>90</td>\n",
       "      <td>14.99</td>\n",
       "      <td>US</td>\n",
       "      <td>1593484298</td>\n",
       "    </tr>\n",
       "    <tr>\n",
       "      <th>1</th>\n",
       "      <td>panaba</td>\n",
       "      <td>3521972</td>\n",
       "      <td>21.28</td>\n",
       "      <td>-88.27</td>\n",
       "      <td>78.78</td>\n",
       "      <td>81</td>\n",
       "      <td>0</td>\n",
       "      <td>8.25</td>\n",
       "      <td>MX</td>\n",
       "      <td>1593484548</td>\n",
       "    </tr>\n",
       "    <tr>\n",
       "      <th>2</th>\n",
       "      <td>mount isa</td>\n",
       "      <td>2065594</td>\n",
       "      <td>-20.73</td>\n",
       "      <td>139.5</td>\n",
       "      <td>80.6</td>\n",
       "      <td>32</td>\n",
       "      <td>0</td>\n",
       "      <td>10.29</td>\n",
       "      <td>AU</td>\n",
       "      <td>1593484548</td>\n",
       "    </tr>\n",
       "    <tr>\n",
       "      <th>3</th>\n",
       "      <td>mataura</td>\n",
       "      <td>6201424</td>\n",
       "      <td>-46.19</td>\n",
       "      <td>168.86</td>\n",
       "      <td>46.45</td>\n",
       "      <td>90</td>\n",
       "      <td>99</td>\n",
       "      <td>8.25</td>\n",
       "      <td>NZ</td>\n",
       "      <td>1593484402</td>\n",
       "    </tr>\n",
       "    <tr>\n",
       "      <th>4</th>\n",
       "      <td>ngunguru</td>\n",
       "      <td>2186111</td>\n",
       "      <td>-35.62</td>\n",
       "      <td>174.5</td>\n",
       "      <td>60.01</td>\n",
       "      <td>78</td>\n",
       "      <td>13</td>\n",
       "      <td>8.01</td>\n",
       "      <td>NZ</td>\n",
       "      <td>1593484549</td>\n",
       "    </tr>\n",
       "  </tbody>\n",
       "</table>\n",
       "</div>"
      ],
      "text/plain": [
       "        City       ID    Lat     Lng Max Temp Humidity Cloudiness Wind Speed  \\\n",
       "0  fairbanks  5861897  64.84 -147.72     55.4       82         90      14.99   \n",
       "1     panaba  3521972  21.28  -88.27    78.78       81          0       8.25   \n",
       "2  mount isa  2065594 -20.73   139.5     80.6       32          0      10.29   \n",
       "3    mataura  6201424 -46.19  168.86    46.45       90         99       8.25   \n",
       "4   ngunguru  2186111 -35.62   174.5    60.01       78         13       8.01   \n",
       "\n",
       "  Country        Date  \n",
       "0      US  1593484298  \n",
       "1      MX  1593484548  \n",
       "2      AU  1593484548  \n",
       "3      NZ  1593484402  \n",
       "4      NZ  1593484549  "
      ]
     },
     "execution_count": 5,
     "metadata": {},
     "output_type": "execute_result"
    }
   ],
   "source": [
    "weather_df.head()"
   ]
  },
  {
   "cell_type": "markdown",
   "metadata": {},
   "source": [
    "## Inspect the data and remove the cities where the humidity > 100%.\n",
    "----\n",
    "Skip this step if there are no cities that have humidity > 100%. "
   ]
  },
  {
   "cell_type": "code",
   "execution_count": 6,
   "metadata": {},
   "outputs": [],
   "source": [
    "#drop any unnecessary string values\n",
    "weather_df.replace(\"\", float(\"NaN\"), inplace=True)\n",
    "weather_df.dropna(how = 'any',inplace = True)"
   ]
  },
  {
   "cell_type": "code",
   "execution_count": 7,
   "metadata": {},
   "outputs": [
    {
     "data": {
      "text/html": [
       "<div>\n",
       "<style scoped>\n",
       "    .dataframe tbody tr th:only-of-type {\n",
       "        vertical-align: middle;\n",
       "    }\n",
       "\n",
       "    .dataframe tbody tr th {\n",
       "        vertical-align: top;\n",
       "    }\n",
       "\n",
       "    .dataframe thead th {\n",
       "        text-align: right;\n",
       "    }\n",
       "</style>\n",
       "<table border=\"1\" class=\"dataframe\">\n",
       "  <thead>\n",
       "    <tr style=\"text-align: right;\">\n",
       "      <th></th>\n",
       "      <th>City</th>\n",
       "      <th>ID</th>\n",
       "      <th>Lat</th>\n",
       "      <th>Lng</th>\n",
       "      <th>Max Temp</th>\n",
       "      <th>Humidity</th>\n",
       "      <th>Cloudiness</th>\n",
       "      <th>Wind Speed</th>\n",
       "      <th>Country</th>\n",
       "      <th>Date</th>\n",
       "    </tr>\n",
       "  </thead>\n",
       "  <tbody>\n",
       "  </tbody>\n",
       "</table>\n",
       "</div>"
      ],
      "text/plain": [
       "Empty DataFrame\n",
       "Columns: [City, ID, Lat, Lng, Max Temp, Humidity, Cloudiness, Wind Speed, Country, Date]\n",
       "Index: []"
      ]
     },
     "execution_count": 7,
     "metadata": {},
     "output_type": "execute_result"
    }
   ],
   "source": [
    "#  Get the indices of cities that have humidity over 100%.\n",
    "weather_df[weather_df.Humidity > 100]\n"
   ]
  },
  {
   "cell_type": "code",
   "execution_count": null,
   "metadata": {},
   "outputs": [],
   "source": [
    "# Make a new DataFrame equal to the city data to drop all humidity outliers by index.\n",
    "# Passing \"inplace=False\" will make a copy of the city_data DataFrame, which we call \"clean_city_data\".\n"
   ]
  },
  {
   "cell_type": "code",
   "execution_count": null,
   "metadata": {},
   "outputs": [],
   "source": [
    "# Extract relevant fields from the data frame\n",
    "\n",
    "\n",
    "# Export the City_Data into a csv\n"
   ]
  },
  {
   "cell_type": "markdown",
   "metadata": {},
   "source": [
    "## Plotting the Data\n",
    "* Use proper labeling of the plots using plot titles (including date of analysis) and axes labels.\n",
    "* Save the plotted figures as .pngs."
   ]
  },
  {
   "cell_type": "markdown",
   "metadata": {},
   "source": [
    "## Latitude vs. Temperature Plot"
   ]
  },
  {
   "cell_type": "code",
   "execution_count": 8,
   "metadata": {
    "scrolled": true
   },
   "outputs": [
    {
     "data": {
      "image/png": "[encoded data removed]",
      "text/plain": [
       "<Figure size 432x288 with 1 Axes>"
      ]
     },
     "metadata": {
      "needs_background": "light"
     },
     "output_type": "display_data"
    }
   ],
   "source": [
    "x_values = weather_df['Lat'].astype('float')\n",
    "y_values = weather_df['Max Temp'].astype('float')\n",
    "plt.scatter(x_values,y_values)\n",
    "plt.xlabel(\"Latitude\")\n",
    "plt.ylabel(\"Max Temperature (F)\")\n",
    "plt.title(\"Latitude vs. Temperature\")\n",
    "plt.grid()\n",
    "\n",
    "#This plot graph shows that the temperature increases the closer the city is to the equator"
   ]
  },
  {
   "cell_type": "markdown",
   "metadata": {},
   "source": [
    "## Latitude vs. Humidity Plot"
   ]
  },
  {
   "cell_type": "code",
   "execution_count": 9,
   "metadata": {},
   "outputs": [
    {
     "data": {
      "image/png": "[encoded data removed]",
      "text/plain": [
       "<Figure size 432x288 with 1 Axes>"
      ]
     },
     "metadata": {
      "needs_background": "light"
     },
     "output_type": "display_data"
    }
   ],
   "source": [
    "x_values = weather_df['Lat'].astype('float')\n",
    "y_values = weather_df['Humidity'].astype('float')\n",
    "plt.scatter(x_values,y_values)\n",
    "plt.xlabel(\"Latitude\")\n",
    "plt.ylabel(\"Humidity\")\n",
    "plt.title(\"Latitude vs. Humidity\")\n",
    "plt.grid()\n",
    "\n",
    "#This plot graph does not show a correlation between latitude and humidity, \n",
    "#but the majority of cities have a humidity level of over 60%"
   ]
  },
  {
   "cell_type": "markdown",
   "metadata": {},
   "source": [
    "## Latitude vs. Cloudiness Plot"
   ]
  },
  {
   "cell_type": "code",
   "execution_count": 10,
   "metadata": {},
   "outputs": [
    {
     "data": {
      "image/png": "[encoded data removed]",
      "text/plain": [
       "<Figure size 432x288 with 1 Axes>"
      ]
     },
     "metadata": {
      "needs_background": "light"
     },
     "output_type": "display_data"
    }
   ],
   "source": [
    "x_values = weather_df['Lat'].astype('float')\n",
    "y_values = weather_df['Cloudiness'].astype('float')\n",
    "plt.scatter(x_values,y_values)\n",
    "plt.xlabel(\"Latitude\")\n",
    "plt.ylabel(\"Humidity\")\n",
    "plt.title(\"Latitude vs. Cloudiness\")\n",
    "plt.grid()\n",
    "\n",
    "#This plot graph shows no correlation between latitude and cloudiness"
   ]
  },
  {
   "cell_type": "markdown",
   "metadata": {},
   "source": [
    "## Latitude vs. Wind Speed Plot"
   ]
  },
  {
   "cell_type": "code",
   "execution_count": 11,
   "metadata": {},
   "outputs": [
    {
     "data": {
      "image/png": "[encoded data removed]",
      "text/plain": [
       "<Figure size 432x288 with 1 Axes>"
      ]
     },
     "metadata": {
      "needs_background": "light"
     },
     "output_type": "display_data"
    }
   ],
   "source": [
    "x_values = weather_df['Lat'].astype('float')\n",
    "y_values = weather_df['Wind Speed'].astype('float')\n",
    "plt.scatter(x_values,y_values)\n",
    "plt.xlabel(\"Latitude\")\n",
    "plt.ylabel(\"Wind Speed\")\n",
    "plt.title(\"Latitude vs. Wind Speed\")\n",
    "plt.grid()\n",
    "\n",
    "#This plot graph does not show a correlation between latitude and wind speed, \n",
    "#but the majority of cities have a wind speed under 10 mph"
   ]
  },
  {
   "cell_type": "markdown",
   "metadata": {},
   "source": [
    "## Linear Regression"
   ]
  },
  {
   "cell_type": "code",
   "execution_count": null,
   "metadata": {},
   "outputs": [],
   "source": [
    "# OPTIONAL: Create a function to create Linear Regression plots"
   ]
  },
  {
   "cell_type": "code",
   "execution_count": 12,
   "metadata": {},
   "outputs": [
    {
     "data": {
      "text/html": [
       "<div>\n",
       "<style scoped>\n",
       "    .dataframe tbody tr th:only-of-type {\n",
       "        vertical-align: middle;\n",
       "    }\n",
       "\n",
       "    .dataframe tbody tr th {\n",
       "        vertical-align: top;\n",
       "    }\n",
       "\n",
       "    .dataframe thead th {\n",
       "        text-align: right;\n",
       "    }\n",
       "</style>\n",
       "<table border=\"1\" class=\"dataframe\">\n",
       "  <thead>\n",
       "    <tr style=\"text-align: right;\">\n",
       "      <th></th>\n",
       "      <th>City</th>\n",
       "      <th>ID</th>\n",
       "      <th>Lat</th>\n",
       "      <th>Lng</th>\n",
       "      <th>Max Temp</th>\n",
       "      <th>Humidity</th>\n",
       "      <th>Cloudiness</th>\n",
       "      <th>Wind Speed</th>\n",
       "      <th>Country</th>\n",
       "      <th>Date</th>\n",
       "    </tr>\n",
       "  </thead>\n",
       "  <tbody>\n",
       "    <tr>\n",
       "      <th>2</th>\n",
       "      <td>mount isa</td>\n",
       "      <td>2065594.0</td>\n",
       "      <td>-20.73</td>\n",
       "      <td>139.50</td>\n",
       "      <td>80.60</td>\n",
       "      <td>32.0</td>\n",
       "      <td>0.0</td>\n",
       "      <td>10.29</td>\n",
       "      <td>AU</td>\n",
       "      <td>1.593485e+09</td>\n",
       "    </tr>\n",
       "    <tr>\n",
       "      <th>3</th>\n",
       "      <td>mataura</td>\n",
       "      <td>6201424.0</td>\n",
       "      <td>-46.19</td>\n",
       "      <td>168.86</td>\n",
       "      <td>46.45</td>\n",
       "      <td>90.0</td>\n",
       "      <td>99.0</td>\n",
       "      <td>8.25</td>\n",
       "      <td>NZ</td>\n",
       "      <td>1.593484e+09</td>\n",
       "    </tr>\n",
       "    <tr>\n",
       "      <th>4</th>\n",
       "      <td>ngunguru</td>\n",
       "      <td>2186111.0</td>\n",
       "      <td>-35.62</td>\n",
       "      <td>174.50</td>\n",
       "      <td>60.01</td>\n",
       "      <td>78.0</td>\n",
       "      <td>13.0</td>\n",
       "      <td>8.01</td>\n",
       "      <td>NZ</td>\n",
       "      <td>1.593485e+09</td>\n",
       "    </tr>\n",
       "    <tr>\n",
       "      <th>8</th>\n",
       "      <td>uaua</td>\n",
       "      <td>3385883.0</td>\n",
       "      <td>-9.84</td>\n",
       "      <td>-39.48</td>\n",
       "      <td>66.07</td>\n",
       "      <td>91.0</td>\n",
       "      <td>3.0</td>\n",
       "      <td>10.18</td>\n",
       "      <td>BR</td>\n",
       "      <td>1.593485e+09</td>\n",
       "    </tr>\n",
       "    <tr>\n",
       "      <th>10</th>\n",
       "      <td>antalaha</td>\n",
       "      <td>1071296.0</td>\n",
       "      <td>-14.90</td>\n",
       "      <td>50.28</td>\n",
       "      <td>66.63</td>\n",
       "      <td>85.0</td>\n",
       "      <td>5.0</td>\n",
       "      <td>6.78</td>\n",
       "      <td>MG</td>\n",
       "      <td>1.593484e+09</td>\n",
       "    </tr>\n",
       "  </tbody>\n",
       "</table>\n",
       "</div>"
      ],
      "text/plain": [
       "         City         ID    Lat     Lng  Max Temp  Humidity  Cloudiness  \\\n",
       "2   mount isa  2065594.0 -20.73  139.50     80.60      32.0         0.0   \n",
       "3     mataura  6201424.0 -46.19  168.86     46.45      90.0        99.0   \n",
       "4    ngunguru  2186111.0 -35.62  174.50     60.01      78.0        13.0   \n",
       "8        uaua  3385883.0  -9.84  -39.48     66.07      91.0         3.0   \n",
       "10   antalaha  1071296.0 -14.90   50.28     66.63      85.0         5.0   \n",
       "\n",
       "    Wind Speed Country          Date  \n",
       "2        10.29      AU  1.593485e+09  \n",
       "3         8.25      NZ  1.593484e+09  \n",
       "4         8.01      NZ  1.593485e+09  \n",
       "8        10.18      BR  1.593485e+09  \n",
       "10        6.78      MG  1.593484e+09  "
      ]
     },
     "execution_count": 12,
     "metadata": {},
     "output_type": "execute_result"
    }
   ],
   "source": [
    "# Create Northern and Southern Hemisphere DataFrames\n",
    "northern_hemisphere_df = weather_df.loc[weather_df[\"Lat\"] > 0,:]\n",
    "southern_hemisphere_df = weather_df.loc[weather_df[\"Lat\"] < 0,:]\n",
    "#northern_hemisphere_df.head()\n",
    "southern_hemisphere_df.head()"
   ]
  },
  {
   "cell_type": "markdown",
   "metadata": {},
   "source": [
    "####  Northern Hemisphere - Max Temp vs. Latitude Linear Regression"
   ]
  },
  {
   "cell_type": "code",
   "execution_count": 14,
   "metadata": {},
   "outputs": [
    {
     "data": {
      "text/plain": [
       "Text(0.5, 1.0, 'Northern Hemisphere - Max Temp vs. Latitude')"
      ]
     },
     "execution_count": 14,
     "metadata": {},
     "output_type": "execute_result"
    },
    {
     "data": {
      "image/png": "[encoded data removed]",
      "text/plain": [
       "<Figure size 432x288 with 1 Axes>"
      ]
     },
     "metadata": {
      "needs_background": "light"
     },
     "output_type": "display_data"
    }
   ],
   "source": [
    "x_values = northern_hemisphere_df['Lat'].astype('float')\n",
    "y_values = northern_hemisphere_df['Max Temp'].astype('float')\n",
    "\n",
    "(slope, intercept, rvalue, pvalue, stderr) = linregress(x_values, y_values)\n",
    "regress_values = x_values * slope + intercept\n",
    "line_eq = \"y = \" + str(round(slope,2)) + \"x + \" + str(round(intercept,2))\n",
    "\n",
    "plt.scatter(x_values,y_values)\n",
    "plt.plot(x_values,regress_values,\"r-\")\n",
    "plt.annotate(line_eq,(0,40),fontsize=15,color=\"red\")\n",
    "\n",
    "plt.xlabel(\"Latitude\")\n",
    "plt.ylabel(\"Max Temperature (F)\")\n",
    "plt.title(\"Northern Hemisphere - Max Temp vs. Latitude\")\n",
    "\n",
    "#The linear regression shows that the temperature is higher the closer the city is to the equator"
   ]
  },
  {
   "cell_type": "markdown",
   "metadata": {},
   "source": [
    "####  Southern Hemisphere - Max Temp vs. Latitude Linear Regression"
   ]
  },
  {
   "cell_type": "code",
   "execution_count": 15,
   "metadata": {},
   "outputs": [
    {
     "data": {
      "text/plain": [
       "Text(0.5, 1.0, 'Southern Hemisphere - Max Temp vs. Latitude')"
      ]
     },
     "execution_count": 15,
     "metadata": {},
     "output_type": "execute_result"
    },
    {
     "data": {
      "image/png": "[encoded data removed]",
      "text/plain": [
       "<Figure size 432x288 with 1 Axes>"
      ]
     },
     "metadata": {
      "needs_background": "light"
     },
     "output_type": "display_data"
    }
   ],
   "source": [
    "x_values = southern_hemisphere_df['Lat'].astype('float')\n",
    "y_values = southern_hemisphere_df['Max Temp'].astype('float')\n",
    "\n",
    "(slope, intercept, rvalue, pvalue, stderr) = linregress(x_values, y_values)\n",
    "regress_values = x_values * slope + intercept\n",
    "line_eq = \"y = \" + str(round(slope,2)) + \"x + \" + str(round(intercept,2))\n",
    "\n",
    "plt.scatter(x_values,y_values)\n",
    "plt.plot(x_values,regress_values,\"r-\")\n",
    "plt.annotate(line_eq,(0,40),fontsize=15,color=\"red\")\n",
    "\n",
    "plt.xlabel(\"Latitude\")\n",
    "plt.ylabel(\"Max Temperature (F)\")\n",
    "plt.title(\"Southern Hemisphere - Max Temp vs. Latitude\")\n",
    "\n",
    "#The linear regression shows that the temperature is higher the closer the city is to the equator"
   ]
  },
  {
   "cell_type": "markdown",
   "metadata": {},
   "source": [
    "####  Northern Hemisphere - Humidity (%) vs. Latitude Linear Regression"
   ]
  },
  {
   "cell_type": "code",
   "execution_count": 16,
   "metadata": {},
   "outputs": [
    {
     "data": {
      "text/plain": [
       "Text(0.5, 1.0, 'Northern Hemisphere - Humidity (%) vs. Latitude')"
      ]
     },
     "execution_count": 16,
     "metadata": {},
     "output_type": "execute_result"
    },
    {
     "data": {
      "image/png": "[encoded data removed]",
      "text/plain": [
       "<Figure size 432x288 with 1 Axes>"
      ]
     },
     "metadata": {
      "needs_background": "light"
     },
     "output_type": "display_data"
    }
   ],
   "source": [
    "x_values = northern_hemisphere_df['Lat'].astype('float')\n",
    "y_values = northern_hemisphere_df['Humidity'].astype('float')\n",
    "\n",
    "(slope, intercept, rvalue, pvalue, stderr) = linregress(x_values, y_values)\n",
    "regress_values = x_values * slope + intercept\n",
    "line_eq = \"y = \" + str(round(slope,2)) + \"x + \" + str(round(intercept,2))\n",
    "\n",
    "plt.scatter(x_values,y_values)\n",
    "plt.plot(x_values,regress_values,\"r-\")\n",
    "plt.annotate(line_eq,(0,40),fontsize=15,color=\"red\")\n",
    "\n",
    "plt.xlabel(\"Latitude\")\n",
    "plt.ylabel(\"Humidity\")\n",
    "plt.title(\"Northern Hemisphere - Humidity (%) vs. Latitude\")\n",
    "\n",
    "#There does not appear to be a correlation between humidity and latitude in the Northern hemisphere"
   ]
  },
  {
   "cell_type": "markdown",
   "metadata": {},
   "source": [
    "####  Southern Hemisphere - Humidity (%) vs. Latitude Linear Regression"
   ]
  },
  {
   "cell_type": "code",
   "execution_count": 17,
   "metadata": {},
   "outputs": [
    {
     "data": {
      "text/plain": [
       "Text(0.5, 1.0, 'Southern Hemisphere - Humidity (%) vs. Latitude')"
      ]
     },
     "execution_count": 17,
     "metadata": {},
     "output_type": "execute_result"
    },
    {
     "data": {
      "image/png": "[encoded data removed]",
      "text/plain": [
       "<Figure size 432x288 with 1 Axes>"
      ]
     },
     "metadata": {
      "needs_background": "light"
     },
     "output_type": "display_data"
    }
   ],
   "source": [
    "x_values = southern_hemisphere_df['Lat'].astype('float')\n",
    "y_values = southern_hemisphere_df['Humidity'].astype('float')\n",
    "\n",
    "(slope, intercept, rvalue, pvalue, stderr) = linregress(x_values, y_values)\n",
    "regress_values = x_values * slope + intercept\n",
    "line_eq = \"y = \" + str(round(slope,2)) + \"x + \" + str(round(intercept,2))\n",
    "\n",
    "plt.scatter(x_values,y_values)\n",
    "plt.plot(x_values,regress_values,\"r-\")\n",
    "plt.annotate(line_eq,(0,40),fontsize=15,color=\"red\")\n",
    "\n",
    "plt.xlabel(\"Latitude\")\n",
    "plt.ylabel(\"Humidity\")\n",
    "plt.title(\"Southern Hemisphere - Humidity (%) vs. Latitude\")\n",
    "\n",
    "#There does not appear to be a strong correlation between humidity and latitude in the Southern hemisphere"
   ]
  },
  {
   "cell_type": "markdown",
   "metadata": {},
   "source": [
    "####  Northern Hemisphere - Cloudiness (%) vs. Latitude Linear Regression"
   ]
  },
  {
   "cell_type": "code",
   "execution_count": 18,
   "metadata": {},
   "outputs": [
    {
     "data": {
      "text/plain": [
       "Text(0.5, 1.0, 'Northern Hemisphere - Cloudiness vs. Latitude')"
      ]
     },
     "execution_count": 18,
     "metadata": {},
     "output_type": "execute_result"
    },
    {
     "data": {
      "image/png": "[encoded data removed]",
      "text/plain": [
       "<Figure size 432x288 with 1 Axes>"
      ]
     },
     "metadata": {
      "needs_background": "light"
     },
     "output_type": "display_data"
    }
   ],
   "source": [
    "x_values = northern_hemisphere_df['Lat'].astype('float')\n",
    "y_values = northern_hemisphere_df['Cloudiness'].astype('float')\n",
    "\n",
    "(slope, intercept, rvalue, pvalue, stderr) = linregress(x_values, y_values)\n",
    "regress_values = x_values * slope + intercept\n",
    "line_eq = \"y = \" + str(round(slope,2)) + \"x + \" + str(round(intercept,2))\n",
    "\n",
    "plt.scatter(x_values,y_values)\n",
    "plt.plot(x_values,regress_values,\"r-\")\n",
    "plt.annotate(line_eq,(0,40),fontsize=15,color=\"red\")\n",
    "\n",
    "plt.xlabel(\"Latitude\")\n",
    "plt.ylabel(\"Cloudiness\")\n",
    "plt.title(\"Northern Hemisphere - Cloudiness vs. Latitude\")\n",
    "\n",
    "#There does not appear to be a correlation between cloudiness and latitude in the Northern hemisphere"
   ]
  },
  {
   "cell_type": "markdown",
   "metadata": {},
   "source": [
    "####  Southern Hemisphere - Cloudiness (%) vs. Latitude Linear Regression"
   ]
  },
  {
   "cell_type": "code",
   "execution_count": 22,
   "metadata": {},
   "outputs": [
    {
     "data": {
      "text/plain": [
       "Text(0.5, 1.0, 'Southern Hemisphere - Cloudiness vs. Latitude')"
      ]
     },
     "execution_count": 22,
     "metadata": {},
     "output_type": "execute_result"
    },
    {
     "data": {
      "image/png": "[encoded data removed]",
      "text/plain": [
       "<Figure size 432x288 with 1 Axes>"
      ]
     },
     "metadata": {
      "needs_background": "light"
     },
     "output_type": "display_data"
    }
   ],
   "source": [
    "x_values = southern_hemisphere_df['Lat'].astype('float')\n",
    "y_values = southern_hemisphere_df['Cloudiness'].astype('float')\n",
    "\n",
    "(slope, intercept, rvalue, pvalue, stderr) = linregress(x_values, y_values)\n",
    "regress_values = x_values * slope + intercept\n",
    "line_eq = \"y = \" + str(round(slope,2)) + \"x + \" + str(round(intercept,2))\n",
    "\n",
    "plt.scatter(x_values,y_values)\n",
    "plt.plot(x_values,regress_values,\"r-\")\n",
    "plt.annotate(line_eq,(0,40),fontsize=15,color=\"red\")\n",
    "\n",
    "plt.xlabel(\"Latitude\")\n",
    "plt.ylabel(\"Cloudiness\")\n",
    "plt.title(\"Southern Hemisphere - Cloudiness vs. Latitude\")\n",
    "\n",
    "#There does not appear to be a strong correlation between cloudiness and latitude in the Southern hemisphere\n",
    "#There are not a lot of clouds below -40 degrees latitude"
   ]
  },
  {
   "cell_type": "markdown",
   "metadata": {},
   "source": [
    "####  Northern Hemisphere - Wind Speed (mph) vs. Latitude Linear Regression"
   ]
  },
  {
   "cell_type": "code",
   "execution_count": 20,
   "metadata": {},
   "outputs": [
    {
     "data": {
      "text/plain": [
       "Text(0.5, 1.0, 'Northern Hemisphere - Wind Speed vs. Latitude')"
      ]
     },
     "execution_count": 20,
     "metadata": {},
     "output_type": "execute_result"
    },
    {
     "data": {
      "image/png": "[encoded data removed]",
      "text/plain": [
       "<Figure size 432x288 with 1 Axes>"
      ]
     },
     "metadata": {
      "needs_background": "light"
     },
     "output_type": "display_data"
    }
   ],
   "source": [
    "x_values = northern_hemisphere_df['Lat'].astype('float')\n",
    "y_values = northern_hemisphere_df['Wind Speed'].astype('float')\n",
    "\n",
    "(slope, intercept, rvalue, pvalue, stderr) = linregress(x_values, y_values)\n",
    "regress_values = x_values * slope + intercept\n",
    "line_eq = \"y = \" + str(round(slope,2)) + \"x + \" + str(round(intercept,2))\n",
    "\n",
    "plt.scatter(x_values,y_values)\n",
    "plt.plot(x_values,regress_values,\"r-\")\n",
    "plt.annotate(line_eq,(0,40),fontsize=15,color=\"red\")\n",
    "\n",
    "plt.xlabel(\"Latitude\")\n",
    "plt.ylabel(\"Wind Speed\")\n",
    "plt.title(\"Northern Hemisphere - Wind Speed vs. Latitude\")\n",
    "\n",
    "#There does not appear to be a strong correlation between wind speed and latitude in the Northern hemisphere"
   ]
  },
  {
   "cell_type": "markdown",
   "metadata": {},
   "source": [
    "####  Southern Hemisphere - Wind Speed (mph) vs. Latitude Linear Regression"
   ]
  },
  {
   "cell_type": "code",
   "execution_count": 21,
   "metadata": {},
   "outputs": [
    {
     "data": {
      "text/plain": [
       "Text(0.5, 1.0, 'Southern Hemisphere - Wind Speed vs. Latitude')"
      ]
     },
     "execution_count": 21,
     "metadata": {},
     "output_type": "execute_result"
    },
    {
     "data": {
      "image/png": "[encoded data removed]",
      "text/plain": [
       "<Figure size 432x288 with 1 Axes>"
      ]
     },
     "metadata": {
      "needs_background": "light"
     },
     "output_type": "display_data"
    }
   ],
   "source": [
    "x_values = southern_hemisphere_df['Lat'].astype('float')\n",
    "y_values = southern_hemisphere_df['Wind Speed'].astype('float')\n",
    "\n",
    "(slope, intercept, rvalue, pvalue, stderr) = linregress(x_values, y_values)\n",
    "regress_values = x_values * slope + intercept\n",
    "line_eq = \"y = \" + str(round(slope,2)) + \"x + \" + str(round(intercept,2))\n",
    "\n",
    "plt.scatter(x_values,y_values)\n",
    "plt.plot(x_values,regress_values,\"r-\")\n",
    "plt.annotate(line_eq,(0,40),fontsize=15,color=\"red\")\n",
    "\n",
    "plt.xlabel(\"Latitude\")\n",
    "plt.ylabel(\"Wind Speed\")\n",
    "plt.title(\"Southern Hemisphere - Wind Speed vs. Latitude\")\n",
    "\n",
    "#There does not appear to be a strong correlation between wind speed and latitude in the Southern hemisphere\n",
    "#but there is a slight decrease in wind speed the closer a city is to the equator\n",
    "#and it is more widely distributed than the northern hemisphere"
   ]
  },
  {
   "cell_type": "code",
   "execution_count": null,
   "metadata": {},
   "outputs": [],
   "source": []
  }
 ],
 "metadata": {
  "anaconda-cloud": {},
  "kernel_info": {
   "name": "python3"
  },
  "kernelspec": {
   "display_name": "Python [conda env:PythonData] *",
   "language": "python",
   "name": "conda-env-PythonData-py"
  },
  "language_info": {
   "codemirror_mode": {
    "name": "ipython",
    "version": 3
   },
   "file_extension": ".py",
   "mimetype": "text/x-python",
   "name": "python",
   "nbconvert_exporter": "python",
   "pygments_lexer": "ipython3",
   "version": "3.6.10"
  },
  "latex_envs": {
   "LaTeX_envs_menu_present": true,
   "autoclose": false,
   "autocomplete": true,
   "bibliofile": "biblio.bib",
   "cite_by": "apalike",
   "current_citInitial": 1,
   "eqLabelWithNumbers": true,
   "eqNumInitial": 1,
   "hotkeys": {
    "equation": "Ctrl-E",
    "itemize": "Ctrl-I"
   },
   "labels_anchors": false,
   "latex_user_defs": false,
   "report_style_numbering": false,
   "user_envs_cfg": false
  },
  "nteract": {
   "version": "0.12.3"
  }
 },
 "nbformat": 4,
 "nbformat_minor": 2
}
